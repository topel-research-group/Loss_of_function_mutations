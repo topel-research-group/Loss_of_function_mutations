{
 "cells": [
  {
   "cell_type": "code",
   "execution_count": 2,
   "metadata": {},
   "outputs": [],
   "source": [
    "import csv\n",
    "import os\n",
    "import pandas as pd"
   ]
  },
  {
   "cell_type": "code",
   "execution_count": null,
   "metadata": {},
   "outputs": [],
   "source": [
    "#import populations as lists\n",
    "\n",
    "path = '/proj/data9/Loss_of_function_mutations/11_Lovisa_Filt_LOF_Summary/'\n",
    "\n",
    "pop_list_dict = {}\n",
    "for i in os.listdir(path):\n",
    "    if i.endswith('.txt') and i.startswith('LOV'):\n",
    "        with open(path+i) as infile:\n",
    "            name = i.replace('.txt', '')\n",
    "            pop_list_dict[name] = infile.read().splitlines()"
   ]
  },
  {
   "cell_type": "code",
   "execution_count": 7,
   "metadata": {},
   "outputs": [
    {
     "data": {
      "text/plain": [
       "<_csv.reader at 0x7f26dc4c7050>"
      ]
     },
     "execution_count": 7,
     "metadata": {},
     "output_type": "execute_result"
    }
   ],
   "source": [
    "#percent of samples in group where LOF count >1\n",
    "#create a new dataframe with dict keys only\n",
    "#where per row there's a percentage of samples >1\n",
    "#pandas df maybe\n",
    "\n",
    "\n",
    "\n",
    "\n",
    "\n",
    "\n",
    "\n",
    "#tarball with this, LOVISA.csv, pops, send path to Mats"
   ]
  },
  {
   "cell_type": "code",
   "execution_count": 3,
   "metadata": {},
   "outputs": [],
   "source": [
    "#import LOVISA LOF counts\n",
    "with open('../LOVISA.csv') as file:\n",
    "    csv_reader = csv.reader(file, delimiter = '\\t')"
   ]
  },
  {
   "cell_type": "code",
   "execution_count": null,
   "metadata": {},
   "outputs": [],
   "source": [
    "data = pd.read_csv('../LOVISA.csv', sep='\\t')\n",
    "data.rename(columns = {'Unnamed: 0': 'gene'}, inplace=True)\n",
    "data_melt = pd.melt(data, id_vars =['gene'], var_name = 'sample', value_name = 'LOF_count')\n",
    "\n",
    "df = data_melt.groupby(['gene','sample'])['LOF_count'].sum().unstack(fill_value=0)\n",
    "df.head()"
   ]
  }
 ],
 "metadata": {
  "kernelspec": {
   "display_name": "Python 3",
   "language": "python",
   "name": "python3"
  },
  "language_info": {
   "codemirror_mode": {
    "name": "ipython",
    "version": 3
   },
   "file_extension": ".py",
   "mimetype": "text/x-python",
   "name": "python",
   "nbconvert_exporter": "python",
   "pygments_lexer": "ipython3",
   "version": "3.7.4"
  }
 },
 "nbformat": 4,
 "nbformat_minor": 4
}
